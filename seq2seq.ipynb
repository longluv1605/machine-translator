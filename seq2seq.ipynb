{
 "cells": [
  {
   "cell_type": "code",
   "execution_count": 1,
   "metadata": {
    "execution": {
     "iopub.execute_input": "2025-02-12T16:20:24.622902Z",
     "iopub.status.busy": "2025-02-12T16:20:24.622590Z",
     "iopub.status.idle": "2025-02-12T16:20:24.627069Z",
     "shell.execute_reply": "2025-02-12T16:20:24.626079Z",
     "shell.execute_reply.started": "2025-02-12T16:20:24.622863Z"
    },
    "trusted": true
   },
   "outputs": [],
   "source": [
    "from pprint import pprint"
   ]
  },
  {
   "cell_type": "markdown",
   "metadata": {},
   "source": [
    "# I - Data preprocessing"
   ]
  },
  {
   "cell_type": "markdown",
   "metadata": {},
   "source": [
    "## I.1 - Download dataset"
   ]
  },
  {
   "cell_type": "code",
   "execution_count": 2,
   "metadata": {
    "execution": {
     "iopub.execute_input": "2025-02-12T16:20:24.628231Z",
     "iopub.status.busy": "2025-02-12T16:20:24.627918Z",
     "iopub.status.idle": "2025-02-12T16:20:24.645518Z",
     "shell.execute_reply": "2025-02-12T16:20:24.644635Z",
     "shell.execute_reply.started": "2025-02-12T16:20:24.628197Z"
    },
    "trusted": true
   },
   "outputs": [],
   "source": [
    "# ! pip install datasets"
   ]
  },
  {
   "cell_type": "code",
   "execution_count": 3,
   "metadata": {
    "execution": {
     "iopub.execute_input": "2025-02-12T16:20:24.646771Z",
     "iopub.status.busy": "2025-02-12T16:20:24.646388Z",
     "iopub.status.idle": "2025-02-12T16:20:29.071910Z",
     "shell.execute_reply": "2025-02-12T16:20:29.071142Z",
     "shell.execute_reply.started": "2025-02-12T16:20:24.646741Z"
    },
    "trusted": true
   },
   "outputs": [],
   "source": [
    "from datasets import load_dataset"
   ]
  },
  {
   "cell_type": "code",
   "execution_count": 4,
   "metadata": {
    "execution": {
     "iopub.execute_input": "2025-02-12T16:20:29.074501Z",
     "iopub.status.busy": "2025-02-12T16:20:29.074084Z",
     "iopub.status.idle": "2025-02-12T16:20:53.994041Z",
     "shell.execute_reply": "2025-02-12T16:20:53.993330Z",
     "shell.execute_reply.started": "2025-02-12T16:20:29.074478Z"
    },
    "trusted": true
   },
   "outputs": [
    {
     "data": {
      "application/vnd.jupyter.widget-view+json": {
       "model_id": "d1cdd4e34b014ef08c5f5f83a4df5b65",
       "version_major": 2,
       "version_minor": 0
      },
      "text/plain": [
       "README.md:   0%|          | 0.00/3.43k [00:00<?, ?B/s]"
      ]
     },
     "metadata": {},
     "output_type": "display_data"
    },
    {
     "data": {
      "application/vnd.jupyter.widget-view+json": {
       "model_id": "3aa4236c03b24ba79cd8b9966ded28d4",
       "version_major": 2,
       "version_minor": 0
      },
      "text/plain": [
       "train.csv:   0%|          | 0.00/597M [00:00<?, ?B/s]"
      ]
     },
     "metadata": {},
     "output_type": "display_data"
    },
    {
     "data": {
      "application/vnd.jupyter.widget-view+json": {
       "model_id": "fb1ad19725a54dd09c958fe24b12df8a",
       "version_major": 2,
       "version_minor": 0
      },
      "text/plain": [
       "valid.csv:   0%|          | 0.00/2.45M [00:00<?, ?B/s]"
      ]
     },
     "metadata": {},
     "output_type": "display_data"
    },
    {
     "data": {
      "application/vnd.jupyter.widget-view+json": {
       "model_id": "5992fb65dcaa4f98be61c211e5fa09f4",
       "version_major": 2,
       "version_minor": 0
      },
      "text/plain": [
       "test.csv:   0%|          | 0.00/2.43M [00:00<?, ?B/s]"
      ]
     },
     "metadata": {},
     "output_type": "display_data"
    },
    {
     "data": {
      "application/vnd.jupyter.widget-view+json": {
       "model_id": "5d8c8f450f224f14af97c4d0d4235b5f",
       "version_major": 2,
       "version_minor": 0
      },
      "text/plain": [
       "Generating train split:   0%|          | 0/2884451 [00:00<?, ? examples/s]"
      ]
     },
     "metadata": {},
     "output_type": "display_data"
    },
    {
     "data": {
      "application/vnd.jupyter.widget-view+json": {
       "model_id": "7aa06d1dd05c4c0e90f00f9ccf6384ca",
       "version_major": 2,
       "version_minor": 0
      },
      "text/plain": [
       "Generating validation split:   0%|          | 0/11316 [00:00<?, ? examples/s]"
      ]
     },
     "metadata": {},
     "output_type": "display_data"
    },
    {
     "data": {
      "application/vnd.jupyter.widget-view+json": {
       "model_id": "ec170cf76b4c41e68fc0ccca32d7e7a8",
       "version_major": 2,
       "version_minor": 0
      },
      "text/plain": [
       "Generating test split:   0%|          | 0/11225 [00:00<?, ? examples/s]"
      ]
     },
     "metadata": {},
     "output_type": "display_data"
    }
   ],
   "source": [
    "data_name = 'ncduy/mt-en-vi'\n",
    "data = load_dataset(data_name)"
   ]
  },
  {
   "cell_type": "code",
   "execution_count": 5,
   "metadata": {
    "execution": {
     "iopub.execute_input": "2025-02-12T16:20:53.995774Z",
     "iopub.status.busy": "2025-02-12T16:20:53.995286Z",
     "iopub.status.idle": "2025-02-12T16:20:54.809364Z",
     "shell.execute_reply": "2025-02-12T16:20:54.808398Z",
     "shell.execute_reply.started": "2025-02-12T16:20:53.995750Z"
    },
    "trusted": true
   },
   "outputs": [],
   "source": [
    "sample_size = 100000\n",
    "train_data = data['train'].shuffle(seed=42).select(range(sample_size))\n",
    "validation_data = data['validation'].shuffle(seed=42).select(range(int(0.1*sample_size)))\n",
    "test_data = data['test'].shuffle(seed=42).select(range(int(0.1*sample_size)))"
   ]
  },
  {
   "cell_type": "code",
   "execution_count": 6,
   "metadata": {
    "execution": {
     "iopub.execute_input": "2025-02-12T16:20:54.810689Z",
     "iopub.status.busy": "2025-02-12T16:20:54.810342Z",
     "iopub.status.idle": "2025-02-12T16:20:54.817523Z",
     "shell.execute_reply": "2025-02-12T16:20:54.816631Z",
     "shell.execute_reply.started": "2025-02-12T16:20:54.810655Z"
    },
    "trusted": true
   },
   "outputs": [
    {
     "name": "stdout",
     "output_type": "stream",
     "text": [
      "(100000, 3)\n",
      "{'en': '\"education and leading me to providing service to the Republic.\"',\n",
      " 'source': 'OpenSubtitles v2018',\n",
      " 'vi': '\"nơi giáo dục và dìu dắt tôi để tôi có thể phụng sự nền Cộng Hòa\"'}\n"
     ]
    }
   ],
   "source": [
    "print(train_data.shape)\n",
    "pprint(train_data[0])"
   ]
  },
  {
   "cell_type": "markdown",
   "metadata": {},
   "source": [
    "## I.2 - Process data using SentencePiece"
   ]
  },
  {
   "cell_type": "code",
   "execution_count": 7,
   "metadata": {
    "execution": {
     "iopub.execute_input": "2025-02-12T16:20:54.818834Z",
     "iopub.status.busy": "2025-02-12T16:20:54.818509Z",
     "iopub.status.idle": "2025-02-12T16:20:55.006146Z",
     "shell.execute_reply": "2025-02-12T16:20:55.005177Z",
     "shell.execute_reply.started": "2025-02-12T16:20:54.818802Z"
    },
    "trusted": true
   },
   "outputs": [],
   "source": [
    "import sentencepiece as spm\n",
    "import os"
   ]
  },
  {
   "cell_type": "code",
   "execution_count": 8,
   "metadata": {
    "execution": {
     "iopub.execute_input": "2025-02-12T16:20:55.007602Z",
     "iopub.status.busy": "2025-02-12T16:20:55.007188Z",
     "iopub.status.idle": "2025-02-12T16:20:55.012325Z",
     "shell.execute_reply": "2025-02-12T16:20:55.011454Z",
     "shell.execute_reply.started": "2025-02-12T16:20:55.007571Z"
    },
    "trusted": true
   },
   "outputs": [],
   "source": [
    "# Save data into files\n",
    "def save_to_file(data, filename):\n",
    "    with open(filename+'.en', 'w', encoding='utf-8') as f_en, open(filename+'.vi', 'w', encoding='utf-8') as f_vi:\n",
    "        for sample in data:\n",
    "            f_en.write(sample['en'] + '\\n')\n",
    "            f_vi.write(sample['vi'] + '\\n')"
   ]
  },
  {
   "cell_type": "code",
   "execution_count": 9,
   "metadata": {
    "execution": {
     "iopub.execute_input": "2025-02-12T16:20:55.013749Z",
     "iopub.status.busy": "2025-02-12T16:20:55.013399Z",
     "iopub.status.idle": "2025-02-12T16:21:03.978525Z",
     "shell.execute_reply": "2025-02-12T16:21:03.977486Z",
     "shell.execute_reply.started": "2025-02-12T16:20:55.013716Z"
    },
    "trusted": true
   },
   "outputs": [],
   "source": [
    "save_to_file(train_data, '/kaggle/working/train')\n",
    "save_to_file(validation_data, '/kaggle/working/validation')\n",
    "save_to_file(test_data, '/kaggle/working/test')"
   ]
  },
  {
   "cell_type": "code",
   "execution_count": 10,
   "metadata": {
    "execution": {
     "iopub.execute_input": "2025-02-12T16:21:03.979897Z",
     "iopub.status.busy": "2025-02-12T16:21:03.979567Z",
     "iopub.status.idle": "2025-02-12T16:21:03.984819Z",
     "shell.execute_reply": "2025-02-12T16:21:03.984108Z",
     "shell.execute_reply.started": "2025-02-12T16:21:03.979865Z"
    },
    "trusted": true
   },
   "outputs": [],
   "source": [
    "# Training SentencePiece\n",
    "def training_sentencepiece(trainfile, prefix, vocab_size=32000, type='bpe'):\n",
    "    spm.SentencePieceTrainer.Train(\n",
    "        input=trainfile+'.en',\n",
    "        model_prefix=prefix+'_en',\n",
    "        vocab_size=vocab_size,\n",
    "        model_type=type\n",
    "    )\n",
    "    spm.SentencePieceTrainer.Train(\n",
    "        input=trainfile+'.vi',\n",
    "        model_prefix=prefix+'_vi',\n",
    "        vocab_size=vocab_size,\n",
    "        model_type=type\n",
    "    )\n",
    "    \n",
    "    # Load trained tokenizer\n",
    "    sp_en = spm.SentencePieceProcessor(model_file=prefix+\"_en.model\")\n",
    "    sp_vi = spm.SentencePieceProcessor(model_file=prefix+\"_vi.model\")\n",
    "    \n",
    "    return sp_en, sp_vi"
   ]
  },
  {
   "cell_type": "code",
   "execution_count": 11,
   "metadata": {
    "execution": {
     "iopub.execute_input": "2025-02-12T16:21:03.985839Z",
     "iopub.status.busy": "2025-02-12T16:21:03.985613Z",
     "iopub.status.idle": "2025-02-12T16:21:37.269335Z",
     "shell.execute_reply": "2025-02-12T16:21:37.268217Z",
     "shell.execute_reply.started": "2025-02-12T16:21:03.985819Z"
    },
    "trusted": true
   },
   "outputs": [],
   "source": [
    "trainfile = '/kaggle/working/train'\n",
    "prefix = '/kaggle/working/spm'\n",
    "sp_en, sp_vi = training_sentencepiece(trainfile, prefix)"
   ]
  },
  {
   "cell_type": "code",
   "execution_count": 12,
   "metadata": {
    "execution": {
     "iopub.execute_input": "2025-02-12T16:21:37.270821Z",
     "iopub.status.busy": "2025-02-12T16:21:37.270468Z",
     "iopub.status.idle": "2025-02-12T16:21:37.288235Z",
     "shell.execute_reply": "2025-02-12T16:21:37.287367Z",
     "shell.execute_reply.started": "2025-02-12T16:21:37.270787Z"
    },
    "trusted": true
   },
   "outputs": [
    {
     "name": "stdout",
     "output_type": "stream",
     "text": [
      "['▁education', '▁and', '▁leading', '▁me', '▁to', '▁providing', '▁service', '▁to', '▁the', '▁Republic', '.']\n",
      "['▁Tôi', '▁yêu', '▁đại', '▁bàng', '!']\n"
     ]
    }
   ],
   "source": [
    "example_en = \"education and leading me to providing service to the Republic.\"\n",
    "example_vi = \"Tôi yêu đại bàng!\"\n",
    "\n",
    "print(sp_en.encode(example_en, out_type=str))\n",
    "print(sp_vi.encode(example_vi, out_type=str))"
   ]
  },
  {
   "cell_type": "markdown",
   "metadata": {},
   "source": [
    "## I.3 - Convert data to Tensor"
   ]
  },
  {
   "cell_type": "code",
   "execution_count": 13,
   "metadata": {
    "execution": {
     "iopub.execute_input": "2025-02-12T16:21:37.292771Z",
     "iopub.status.busy": "2025-02-12T16:21:37.292402Z",
     "iopub.status.idle": "2025-02-12T16:21:43.255736Z",
     "shell.execute_reply": "2025-02-12T16:21:43.254906Z",
     "shell.execute_reply.started": "2025-02-12T16:21:37.292737Z"
    },
    "trusted": true
   },
   "outputs": [],
   "source": [
    "import torch\n",
    "from torch.utils.data import Dataset, DataLoader"
   ]
  },
  {
   "cell_type": "code",
   "execution_count": 14,
   "metadata": {
    "execution": {
     "iopub.execute_input": "2025-02-12T16:21:43.257285Z",
     "iopub.status.busy": "2025-02-12T16:21:43.257027Z",
     "iopub.status.idle": "2025-02-12T16:21:43.264513Z",
     "shell.execute_reply": "2025-02-12T16:21:43.263292Z",
     "shell.execute_reply.started": "2025-02-12T16:21:43.257262Z"
    },
    "trusted": true
   },
   "outputs": [],
   "source": [
    "class TranslationDataset(Dataset):\n",
    "    def __init__(self, src_texts, tgt_texts, src_tokenizer, tgt_tokenizer, max_length=128):\n",
    "        self.src_texts = src_texts\n",
    "        self.tgt_texts = tgt_texts\n",
    "        self.src_tokenizer = src_tokenizer\n",
    "        self.tgt_tokenizer = tgt_tokenizer\n",
    "        self.max_length = max_length\n",
    "\n",
    "    def __len__(self):\n",
    "        return len(self.src_texts)\n",
    "\n",
    "    def __getitem__(self, idx):\n",
    "        # Tokenize input (source - English)\n",
    "        src_ids = self.src_tokenizer.encode(self.src_texts[idx])[:self.max_length - 1]  \n",
    "        src_ids.append(self.src_tokenizer.eos_id())  # Thêm <EOS>\n",
    "\n",
    "        # Tokennize output (target - Vietnamese)\n",
    "        tgt_ids = self.tgt_tokenizer.encode(self.tgt_texts[idx])[:self.max_length - 2]  \n",
    "        tgt_ids = [self.tgt_tokenizer.bos_id()] + tgt_ids + [self.tgt_tokenizer.eos_id()]  # Add <SOS> and <EOS>\n",
    "\n",
    "        return torch.tensor(src_ids), torch.tensor(tgt_ids)\n",
    "\n",
    "\n",
    "# Padding batch\n",
    "def collate_fn(batch):\n",
    "    src_batch, tgt_batch = zip(*batch)\n",
    "    \n",
    "    src_batch = torch.nn.utils.rnn.pad_sequence(src_batch, batch_first=True, padding_value=0)\n",
    "    tgt_batch = torch.nn.utils.rnn.pad_sequence(tgt_batch, batch_first=True, padding_value=0)\n",
    "\n",
    "    return {\"src\": src_batch, \"tgt\": tgt_batch}"
   ]
  },
  {
   "cell_type": "code",
   "execution_count": 15,
   "metadata": {
    "execution": {
     "iopub.execute_input": "2025-02-12T16:21:43.265571Z",
     "iopub.status.busy": "2025-02-12T16:21:43.265322Z",
     "iopub.status.idle": "2025-02-12T16:21:44.875645Z",
     "shell.execute_reply": "2025-02-12T16:21:44.874713Z",
     "shell.execute_reply.started": "2025-02-12T16:21:43.265549Z"
    },
    "trusted": true
   },
   "outputs": [],
   "source": [
    "train_src_texts = train_data['en'][:5000]\n",
    "train_tgt_texts = train_data['vi'][:5000]\n",
    "\n",
    "train_dataset = TranslationDataset(train_src_texts, train_tgt_texts, sp_en, sp_vi)"
   ]
  },
  {
   "cell_type": "code",
   "execution_count": 16,
   "metadata": {
    "execution": {
     "iopub.execute_input": "2025-02-12T16:21:44.876911Z",
     "iopub.status.busy": "2025-02-12T16:21:44.876563Z",
     "iopub.status.idle": "2025-02-12T16:21:44.978129Z",
     "shell.execute_reply": "2025-02-12T16:21:44.977315Z",
     "shell.execute_reply.started": "2025-02-12T16:21:44.876878Z"
    },
    "trusted": true
   },
   "outputs": [],
   "source": [
    "val_src_texts = validation_data['en'][:100]\n",
    "val_tgt_texts = validation_data['vi'][:100]\n",
    "\n",
    "val_dataset = TranslationDataset(val_src_texts, val_tgt_texts, sp_en, sp_vi)"
   ]
  },
  {
   "cell_type": "code",
   "execution_count": 17,
   "metadata": {
    "execution": {
     "iopub.execute_input": "2025-02-12T16:21:44.979272Z",
     "iopub.status.busy": "2025-02-12T16:21:44.979040Z",
     "iopub.status.idle": "2025-02-12T16:21:44.984067Z",
     "shell.execute_reply": "2025-02-12T16:21:44.983073Z",
     "shell.execute_reply.started": "2025-02-12T16:21:44.979251Z"
    },
    "trusted": true
   },
   "outputs": [],
   "source": [
    "# DataLoader\n",
    "batch_size = 32\n",
    "train_dataloader = DataLoader(train_dataset, batch_size=batch_size, shuffle=True, collate_fn=collate_fn)\n",
    "val_dataloader = DataLoader(val_dataset, batch_size=batch_size, shuffle=True, collate_fn=collate_fn)"
   ]
  },
  {
   "cell_type": "code",
   "execution_count": 18,
   "metadata": {
    "execution": {
     "iopub.execute_input": "2025-02-12T16:21:44.985313Z",
     "iopub.status.busy": "2025-02-12T16:21:44.985044Z",
     "iopub.status.idle": "2025-02-12T16:21:45.196898Z",
     "shell.execute_reply": "2025-02-12T16:21:45.196044Z",
     "shell.execute_reply.started": "2025-02-12T16:21:44.985278Z"
    },
    "trusted": true
   },
   "outputs": [
    {
     "name": "stdout",
     "output_type": "stream",
     "text": [
      "torch.Size([32, 72])\n",
      "tensor([[  488, 31860, 31842,  ...,     0,     0,     0],\n",
      "        [20090, 31855, 12014,  ...,     0,     0,     0],\n",
      "        [10104, 31855,     5,  ...,     0,     0,     0],\n",
      "        ...,\n",
      "        [ 5540,   431,     8,  ...,     0,     0,     0],\n",
      "        [  407,    85,     5,  ...,     0,     0,     0],\n",
      "        [26688,  3192,  1487,  ...,     0,     0,     0]])\n"
     ]
    }
   ],
   "source": [
    "batch = next(iter(train_dataloader))\n",
    "print(batch['src'].shape)\n",
    "pprint(batch['src'])"
   ]
  },
  {
   "cell_type": "markdown",
   "metadata": {},
   "source": [
    "# II - Build model"
   ]
  },
  {
   "cell_type": "code",
   "execution_count": 19,
   "metadata": {
    "execution": {
     "iopub.execute_input": "2025-02-12T16:21:45.198178Z",
     "iopub.status.busy": "2025-02-12T16:21:45.197820Z",
     "iopub.status.idle": "2025-02-12T16:21:45.202090Z",
     "shell.execute_reply": "2025-02-12T16:21:45.201395Z",
     "shell.execute_reply.started": "2025-02-12T16:21:45.198143Z"
    },
    "trusted": true
   },
   "outputs": [],
   "source": [
    "import torch.nn as nn"
   ]
  },
  {
   "cell_type": "code",
   "execution_count": 20,
   "metadata": {
    "execution": {
     "iopub.execute_input": "2025-02-12T16:21:45.203271Z",
     "iopub.status.busy": "2025-02-12T16:21:45.202961Z",
     "iopub.status.idle": "2025-02-12T16:21:45.222610Z",
     "shell.execute_reply": "2025-02-12T16:21:45.221596Z",
     "shell.execute_reply.started": "2025-02-12T16:21:45.203242Z"
    },
    "trusted": true
   },
   "outputs": [],
   "source": [
    "class Encoder(nn.Module):\n",
    "    def __init__(self, input_dim, emb_dim, hidden_dim, num_layers, dropout=0.3, pad_idx=0):\n",
    "        super().__init__()\n",
    "        self.embedding = nn.Embedding(input_dim, emb_dim, padding_idx=pad_idx)\n",
    "        self.rnn = nn.GRU(emb_dim, hidden_dim, num_layers, dropout=dropout, batch_first=True)\n",
    "        self.dropout = nn.Dropout(dropout)\n",
    "        \n",
    "    def forward(self, src):\n",
    "        src\n",
    "        embedded = self.embedding(src)\n",
    "        embedded = self.dropout(embedded)\n",
    "        output, hidden = self.rnn(embedded)\n",
    "        return output, hidden\n",
    "        "
   ]
  },
  {
   "cell_type": "code",
   "execution_count": 21,
   "metadata": {
    "execution": {
     "iopub.execute_input": "2025-02-12T16:21:45.223814Z",
     "iopub.status.busy": "2025-02-12T16:21:45.223543Z",
     "iopub.status.idle": "2025-02-12T16:21:45.245817Z",
     "shell.execute_reply": "2025-02-12T16:21:45.245191Z",
     "shell.execute_reply.started": "2025-02-12T16:21:45.223793Z"
    },
    "trusted": true
   },
   "outputs": [],
   "source": [
    "class Decoder(nn.Module):\n",
    "    def __init__(self, output_dim, emb_dim, hidden_dim, num_layers, dropout, pad_idx=0):\n",
    "        super().__init__()\n",
    "        self.output_dim = output_dim\n",
    "        self.embedding = nn.Embedding(output_dim, emb_dim, padding_idx=pad_idx)\n",
    "        self.rnn = nn.GRU(emb_dim, hidden_dim, num_layers, dropout=dropout, batch_first=True)\n",
    "        self.fc_out = nn.Linear(hidden_dim, output_dim)\n",
    "        self.dropout = nn.Dropout(dropout)\n",
    "\n",
    "    def forward(self, input, hidden):\n",
    "        input = input.unsqueeze(1)  # [batch] -> [batch, 1]\n",
    "        embedded = self.embedding(input)  # [batch, 1, emb_dim]\n",
    "        embedded = self.dropout(embedded)  # [batch, 1, emb_dim]\n",
    "        output, hidden = self.rnn(embedded, hidden)  # output: [batch, 1, hidden_dim]\n",
    "        prediction = self.fc_out(output.squeeze(1))  # [batch, output_dim]\n",
    "        return prediction, hidden\n"
   ]
  },
  {
   "cell_type": "code",
   "execution_count": 22,
   "metadata": {
    "execution": {
     "iopub.execute_input": "2025-02-12T16:21:45.246966Z",
     "iopub.status.busy": "2025-02-12T16:21:45.246627Z",
     "iopub.status.idle": "2025-02-12T16:21:45.265122Z",
     "shell.execute_reply": "2025-02-12T16:21:45.264174Z",
     "shell.execute_reply.started": "2025-02-12T16:21:45.246922Z"
    },
    "trusted": true
   },
   "outputs": [],
   "source": [
    "import random\n",
    "\n",
    "class Seq2Seq(nn.Module):\n",
    "    def __init__(self, encoder, decoder, device):\n",
    "        super().__init__()\n",
    "        self.encoder = encoder\n",
    "        self.decoder = decoder\n",
    "        self.device = device\n",
    "\n",
    "    def forward(self, src, trg, teacher_forcing_ratio=0.5):\n",
    "        batch_size = src.shape[0]\n",
    "        trg_len = trg.shape[1]\n",
    "        trg_vocab_size = self.decoder.output_dim\n",
    "        \n",
    "        # outputs = torch.zeros(trg_len, batch_size, trg_vocab_size)\n",
    "        outputs = torch.zeros(trg_len, batch_size, trg_vocab_size).to(self.device)\n",
    "\n",
    "        # Encode input\n",
    "        output, hidden = self.encoder(src)\n",
    "\n",
    "        # First token <SOS>\n",
    "        input = trg[:, 0]\n",
    "\n",
    "        for t in range(1, trg_len):\n",
    "            output, hidden = self.decoder(input, hidden)\n",
    "            outputs[t] = output\n",
    "\n",
    "            # Teacher forcing\n",
    "            teacher_force = random.random() < teacher_forcing_ratio\n",
    "            top1 = output.argmax(1)\n",
    "\n",
    "            input = trg[:, t] if teacher_force else top1\n",
    "\n",
    "        return outputs\n"
   ]
  },
  {
   "cell_type": "code",
   "execution_count": 23,
   "metadata": {
    "execution": {
     "iopub.execute_input": "2025-02-12T16:21:45.266151Z",
     "iopub.status.busy": "2025-02-12T16:21:45.265928Z",
     "iopub.status.idle": "2025-02-12T16:21:45.709742Z",
     "shell.execute_reply": "2025-02-12T16:21:45.708837Z",
     "shell.execute_reply.started": "2025-02-12T16:21:45.266132Z"
    },
    "trusted": true
   },
   "outputs": [],
   "source": [
    "# Hyperparams\n",
    "INPUT_DIM = len(sp_en)\n",
    "OUTPUT_DIM = len(sp_vi)\n",
    "EMB_DIM = 256\n",
    "HIDDEN_DIM = 512\n",
    "NUM_LAYERS = 2\n",
    "DROPOUT = 0.3\n",
    "DEVICE = torch.device(\"cuda\" if torch.cuda.is_available() else \"cpu\")\n",
    "\n",
    "# Khởi tạo Encoder & Decoder\n",
    "encoder = Encoder(INPUT_DIM, EMB_DIM, HIDDEN_DIM, NUM_LAYERS, DROPOUT)\n",
    "decoder = Decoder(OUTPUT_DIM, EMB_DIM, HIDDEN_DIM, NUM_LAYERS, DROPOUT)\n",
    "\n",
    "# Khởi tạo Seq2Seq\n",
    "model = Seq2Seq(encoder, decoder, DEVICE)\n"
   ]
  },
  {
   "cell_type": "markdown",
   "metadata": {},
   "source": [
    "# III - Train and Evaluate model"
   ]
  },
  {
   "cell_type": "code",
   "execution_count": 24,
   "metadata": {
    "execution": {
     "iopub.execute_input": "2025-02-12T16:21:45.710920Z",
     "iopub.status.busy": "2025-02-12T16:21:45.710639Z",
     "iopub.status.idle": "2025-02-12T16:21:47.914094Z",
     "shell.execute_reply": "2025-02-12T16:21:47.913069Z",
     "shell.execute_reply.started": "2025-02-12T16:21:45.710897Z"
    },
    "trusted": true
   },
   "outputs": [],
   "source": [
    "import torch.optim as optim\n",
    "import torch.nn as nn\n",
    "from tqdm import tqdm\n",
    "\n",
    "\n",
    "LEARNING_RATE = 0.001\n",
    "PAD_IDX = 0\n",
    "\n",
    "criterion = torch.nn.CrossEntropyLoss(ignore_index=PAD_IDX)  \n",
    "optimizer = optim.Adam(model.parameters(), lr=LEARNING_RATE)\n"
   ]
  },
  {
   "cell_type": "code",
   "execution_count": 25,
   "metadata": {
    "execution": {
     "iopub.execute_input": "2025-02-12T16:21:47.915539Z",
     "iopub.status.busy": "2025-02-12T16:21:47.914972Z",
     "iopub.status.idle": "2025-02-12T16:21:47.921732Z",
     "shell.execute_reply": "2025-02-12T16:21:47.920815Z",
     "shell.execute_reply.started": "2025-02-12T16:21:47.915512Z"
    },
    "trusted": true
   },
   "outputs": [],
   "source": [
    "import random\n",
    "\n",
    "def train(model, iterator, optimizer, criterion, clip, teacher_forcing_ratio=0.5):\n",
    "    model.train()\n",
    "    epoch_loss = 0\n",
    "    model.to(DEVICE)\n",
    "    for batch in tqdm(iterator, desc=f'Training: '):\n",
    "        src, trg = batch['src'], batch['tgt']\n",
    "        src, trg = src.to(DEVICE), trg.to(DEVICE)\n",
    "        \n",
    "        optimizer.zero_grad()\n",
    "\n",
    "        output = model(src, trg, teacher_forcing_ratio)\n",
    "\n",
    "        output_dim = output.shape[-1]\n",
    "        output = output[1:].reshape(-1, output_dim)  # [batch_size * trg_len, vocab_size]\n",
    "        trg = trg[:, 1:].reshape(-1)  # [batch_size * trg_len]\n",
    "\n",
    "        loss = criterion(output, trg)\n",
    "        loss.backward()\n",
    "        \n",
    "        torch.nn.utils.clip_grad_norm_(model.parameters(), clip)\n",
    "\n",
    "        optimizer.step()\n",
    "        epoch_loss += loss.item()\n",
    "\n",
    "    return epoch_loss / len(iterator)\n"
   ]
  },
  {
   "cell_type": "code",
   "execution_count": 29,
   "metadata": {
    "execution": {
     "iopub.execute_input": "2025-02-12T16:25:33.957834Z",
     "iopub.status.busy": "2025-02-12T16:25:33.957401Z",
     "iopub.status.idle": "2025-02-12T16:25:33.964060Z",
     "shell.execute_reply": "2025-02-12T16:25:33.963097Z",
     "shell.execute_reply.started": "2025-02-12T16:25:33.957805Z"
    },
    "trusted": true
   },
   "outputs": [],
   "source": [
    "def evaluate(model, iterator, criterion):\n",
    "    model.eval()\n",
    "    epoch_loss = 0\n",
    "\n",
    "    with torch.no_grad():\n",
    "        for src, trg in tqdm(iterator, desc='Evaluating: '):\n",
    "            src, trg = batch['src'], batch['tgt']\n",
    "            src, trg = src.to(DEVICE), trg.to(DEVICE)\n",
    "            output = model(src, trg, teacher_forcing_ratio=0)\n",
    "\n",
    "            output_dim = output.shape[-1]\n",
    "            output = output[1:].reshape(-1, output_dim)\n",
    "            trg = trg[:, 1:].reshape(-1)\n",
    "\n",
    "            loss = criterion(output, trg)\n",
    "            epoch_loss += loss.item()\n",
    "    print()\n",
    "    return epoch_loss / len(iterator)\n"
   ]
  },
  {
   "cell_type": "code",
   "execution_count": 30,
   "metadata": {
    "execution": {
     "iopub.execute_input": "2025-02-12T16:25:36.428951Z",
     "iopub.status.busy": "2025-02-12T16:25:36.428657Z",
     "iopub.status.idle": "2025-02-12T16:25:36.432473Z",
     "shell.execute_reply": "2025-02-12T16:25:36.431651Z",
     "shell.execute_reply.started": "2025-02-12T16:25:36.428928Z"
    },
    "trusted": true
   },
   "outputs": [],
   "source": [
    "import os\n",
    "os.environ[\"CUDA_LAUNCH_BLOCKING\"] = \"1\"\n"
   ]
  },
  {
   "cell_type": "code",
   "execution_count": 31,
   "metadata": {
    "execution": {
     "iopub.execute_input": "2025-02-12T16:25:36.713497Z",
     "iopub.status.busy": "2025-02-12T16:25:36.713180Z",
     "iopub.status.idle": "2025-02-12T16:45:23.404859Z",
     "shell.execute_reply": "2025-02-12T16:45:23.403725Z",
     "shell.execute_reply.started": "2025-02-12T16:25:36.713473Z"
    },
    "trusted": true
   },
   "outputs": [
    {
     "name": "stderr",
     "output_type": "stream",
     "text": [
      "Training: 100%|██████████| 157/157 [01:56<00:00,  1.35it/s]\n",
      "Evaluating: 100%|██████████| 4/4 [00:01<00:00,  2.96it/s]\n"
     ]
    },
    {
     "name": "stdout",
     "output_type": "stream",
     "text": [
      "\n",
      "Epoch 1:\n",
      "  Train Loss: 7.232\n",
      "  Valid Loss: 7.471\n"
     ]
    },
    {
     "name": "stderr",
     "output_type": "stream",
     "text": [
      "Training: 100%|██████████| 157/157 [01:56<00:00,  1.35it/s]\n",
      "Evaluating: 100%|██████████| 4/4 [00:01<00:00,  2.92it/s]\n"
     ]
    },
    {
     "name": "stdout",
     "output_type": "stream",
     "text": [
      "\n",
      "Epoch 2:\n",
      "  Train Loss: 7.186\n",
      "  Valid Loss: 7.475\n"
     ]
    },
    {
     "name": "stderr",
     "output_type": "stream",
     "text": [
      "Training: 100%|██████████| 157/157 [01:56<00:00,  1.35it/s]\n",
      "Evaluating: 100%|██████████| 4/4 [00:01<00:00,  2.97it/s]\n"
     ]
    },
    {
     "name": "stdout",
     "output_type": "stream",
     "text": [
      "\n",
      "Epoch 3:\n",
      "  Train Loss: 7.136\n",
      "  Valid Loss: 7.377\n"
     ]
    },
    {
     "name": "stderr",
     "output_type": "stream",
     "text": [
      "Training: 100%|██████████| 157/157 [01:56<00:00,  1.34it/s]\n",
      "Evaluating: 100%|██████████| 4/4 [00:01<00:00,  2.91it/s]\n"
     ]
    },
    {
     "name": "stdout",
     "output_type": "stream",
     "text": [
      "\n",
      "Epoch 4:\n",
      "  Train Loss: 7.114\n",
      "  Valid Loss: 7.373\n"
     ]
    },
    {
     "name": "stderr",
     "output_type": "stream",
     "text": [
      "Training: 100%|██████████| 157/157 [01:58<00:00,  1.33it/s]\n",
      "Evaluating: 100%|██████████| 4/4 [00:01<00:00,  2.97it/s]\n"
     ]
    },
    {
     "name": "stdout",
     "output_type": "stream",
     "text": [
      "\n",
      "Epoch 5:\n",
      "  Train Loss: 7.096\n",
      "  Valid Loss: 7.323\n"
     ]
    },
    {
     "name": "stderr",
     "output_type": "stream",
     "text": [
      "Training: 100%|██████████| 157/157 [01:58<00:00,  1.32it/s]\n",
      "Evaluating: 100%|██████████| 4/4 [00:01<00:00,  2.96it/s]\n"
     ]
    },
    {
     "name": "stdout",
     "output_type": "stream",
     "text": [
      "\n",
      "Epoch 6:\n",
      "  Train Loss: 7.084\n",
      "  Valid Loss: 7.378\n"
     ]
    },
    {
     "name": "stderr",
     "output_type": "stream",
     "text": [
      "Training: 100%|██████████| 157/157 [01:59<00:00,  1.31it/s]\n",
      "Evaluating: 100%|██████████| 4/4 [00:01<00:00,  2.94it/s]\n"
     ]
    },
    {
     "name": "stdout",
     "output_type": "stream",
     "text": [
      "\n",
      "Epoch 7:\n",
      "  Train Loss: 7.076\n",
      "  Valid Loss: 7.392\n"
     ]
    },
    {
     "name": "stderr",
     "output_type": "stream",
     "text": [
      "Training: 100%|██████████| 157/157 [01:56<00:00,  1.35it/s]\n",
      "Evaluating: 100%|██████████| 4/4 [00:01<00:00,  2.98it/s]\n"
     ]
    },
    {
     "name": "stdout",
     "output_type": "stream",
     "text": [
      "\n",
      "Epoch 8:\n",
      "  Train Loss: 7.069\n",
      "  Valid Loss: 7.372\n"
     ]
    },
    {
     "name": "stderr",
     "output_type": "stream",
     "text": [
      "Training: 100%|██████████| 157/157 [01:57<00:00,  1.33it/s]\n",
      "Evaluating: 100%|██████████| 4/4 [00:01<00:00,  2.98it/s]\n"
     ]
    },
    {
     "name": "stdout",
     "output_type": "stream",
     "text": [
      "\n",
      "Epoch 9:\n",
      "  Train Loss: 7.071\n",
      "  Valid Loss: 7.341\n"
     ]
    },
    {
     "name": "stderr",
     "output_type": "stream",
     "text": [
      "Training: 100%|██████████| 157/157 [01:56<00:00,  1.34it/s]\n",
      "Evaluating: 100%|██████████| 4/4 [00:01<00:00,  2.96it/s]"
     ]
    },
    {
     "name": "stdout",
     "output_type": "stream",
     "text": [
      "\n",
      "Epoch 10:\n",
      "  Train Loss: 7.064\n",
      "  Valid Loss: 7.380\n"
     ]
    },
    {
     "name": "stderr",
     "output_type": "stream",
     "text": [
      "\n"
     ]
    }
   ],
   "source": [
    "N_EPOCHS = 10\n",
    "CLIP = 5  # Max gradient norm\n",
    "\n",
    "train_losses = []\n",
    "val_losses = []\n",
    "\n",
    "for epoch in range(N_EPOCHS):\n",
    "    train_loss = train(model, train_dataloader, optimizer, criterion, CLIP)\n",
    "    valid_loss = evaluate(model, val_dataloader, criterion)\n",
    "\n",
    "    print(f'Epoch {epoch+1}:')\n",
    "    print(f'  Train Loss: {train_loss:.3f}')\n",
    "    print(f'  Valid Loss: {valid_loss:.3f}')\n",
    "\n",
    "    train_losses.append(train_loss)\n",
    "    val_losses.append(valid_loss)"
   ]
  },
  {
   "cell_type": "markdown",
   "metadata": {},
   "source": [
    "# IV - Testing"
   ]
  },
  {
   "cell_type": "code",
   "execution_count": 35,
   "metadata": {
    "execution": {
     "iopub.execute_input": "2025-02-12T17:00:16.339358Z",
     "iopub.status.busy": "2025-02-12T17:00:16.339068Z",
     "iopub.status.idle": "2025-02-12T17:00:16.775081Z",
     "shell.execute_reply": "2025-02-12T17:00:16.774042Z",
     "shell.execute_reply.started": "2025-02-12T17:00:16.339336Z"
    },
    "trusted": true
   },
   "outputs": [],
   "source": [
    "torch.save(model.state_dict(), '/kaggle/working/seq2seq.pth')"
   ]
  },
  {
   "cell_type": "code",
   "execution_count": 123,
   "metadata": {
    "execution": {
     "iopub.execute_input": "2025-02-12T17:36:43.849924Z",
     "iopub.status.busy": "2025-02-12T17:36:43.849622Z",
     "iopub.status.idle": "2025-02-12T17:36:43.997428Z",
     "shell.execute_reply": "2025-02-12T17:36:43.996609Z",
     "shell.execute_reply.started": "2025-02-12T17:36:43.849900Z"
    },
    "trusted": true
   },
   "outputs": [
    {
     "data": {
      "text/plain": [
       "Seq2Seq(\n",
       "  (encoder): Encoder(\n",
       "    (embedding): Embedding(32000, 256, padding_idx=0)\n",
       "    (rnn): GRU(256, 512, num_layers=2, batch_first=True, dropout=0.3)\n",
       "    (dropout): Dropout(p=0.3, inplace=False)\n",
       "  )\n",
       "  (decoder): Decoder(\n",
       "    (embedding): Embedding(32000, 256, padding_idx=0)\n",
       "    (rnn): GRU(256, 512, num_layers=2, batch_first=True, dropout=0.3)\n",
       "    (fc_out): Linear(in_features=512, out_features=32000, bias=True)\n",
       "    (dropout): Dropout(p=0.3, inplace=False)\n",
       "  )\n",
       ")"
      ]
     },
     "execution_count": 123,
     "metadata": {},
     "output_type": "execute_result"
    }
   ],
   "source": [
    "model.load_state_dict(torch.load(\"/kaggle/working/seq2seq.pth\", \n",
    "                                 map_location=torch.device(\"cpu\"),\n",
    "                                 weights_only=True))\n",
    "model.eval()  "
   ]
  },
  {
   "cell_type": "code",
   "execution_count": 156,
   "metadata": {
    "execution": {
     "iopub.execute_input": "2025-02-12T17:58:07.080069Z",
     "iopub.status.busy": "2025-02-12T17:58:07.079738Z",
     "iopub.status.idle": "2025-02-12T17:58:07.086932Z",
     "shell.execute_reply": "2025-02-12T17:58:07.085840Z",
     "shell.execute_reply.started": "2025-02-12T17:58:07.080044Z"
    },
    "trusted": true
   },
   "outputs": [],
   "source": [
    "import torch\n",
    "\n",
    "def translate_sentence(sentence, sp_en, trg_vocab, model, device, max_len=128):\n",
    "    model.to(device).eval()\n",
    "    \n",
    "    # Tokenize input using SentencePiece\n",
    "    tokens = sp_en.encode(sentence, out_type=str)  # Tokenize\n",
    "    print(\"Tokenized input:\", tokens)\n",
    "    \n",
    "    # Chuyển token thành chỉ mục (ID)\n",
    "    src_indexes = sp_en.encode(sentence)  # SentencePiece auto convert to ID\n",
    "    src_tensor = torch.tensor(src_indexes, dtype=torch.long).unsqueeze(0).to(device)  # [1, seq_len]\n",
    "    with torch.inference_mode():\n",
    "        _, hidden = model.encoder(src_tensor)  # Encode input\n",
    "    \n",
    "    trg_indexes = [trg_vocab['stoi'][\"<s>\"]]  # Begin with <sos>\n",
    "    for _ in range(max_len):\n",
    "        trg_tensor = torch.tensor([trg_indexes[-1]], dtype=torch.long).to(device)  # [1]\n",
    "        with torch.inference_mode():\n",
    "            output, hidden = model.decoder(trg_tensor, hidden)  # Get output from decoder\n",
    "        pred_token = output.argmax(1).item()  # Get token has highest probs\n",
    "        trg_indexes.append(pred_token)\n",
    "\n",
    "        if pred_token == trg_vocab['stoi'][\"</s>\"]:  # End if <eos>\n",
    "            break\n",
    "\n",
    "    # Convert ID to word\n",
    "    trg_tokens = [trg_vocab['itos'][i] for i in trg_indexes]\n",
    "    return \" \".join(trg_tokens[1:-1])  # Remove <sos> and <eos>\n"
   ]
  },
  {
   "cell_type": "code",
   "execution_count": 157,
   "metadata": {
    "execution": {
     "iopub.execute_input": "2025-02-12T17:58:07.485894Z",
     "iopub.status.busy": "2025-02-12T17:58:07.485583Z",
     "iopub.status.idle": "2025-02-12T17:58:07.589293Z",
     "shell.execute_reply": "2025-02-12T17:58:07.588404Z",
     "shell.execute_reply.started": "2025-02-12T17:58:07.485869Z"
    },
    "trusted": true
   },
   "outputs": [
    {
     "name": "stdout",
     "output_type": "stream",
     "text": [
      "Tokenized input: ['▁How', '▁are', '▁you', '?']\n",
      "Translated: .\n"
     ]
    }
   ],
   "source": [
    "trg_vocab = {\n",
    "    \"stoi\": {sp_vi.id_to_piece(i): i for i in range(sp_vi.get_piece_size())},\n",
    "    \"itos\": {i: sp_vi.id_to_piece(i) for i in range(sp_vi.get_piece_size())},\n",
    "}\n",
    "\n",
    "sentence = \"How are you?\"\n",
    "translated_sentence = translate_sentence(sentence, sp_en, trg_vocab, model, device=\"cpu\")\n",
    "print(\"Translated:\", translated_sentence)\n"
   ]
  },
  {
   "cell_type": "code",
   "execution_count": null,
   "metadata": {
    "trusted": true
   },
   "outputs": [],
   "source": []
  }
 ],
 "metadata": {
  "kaggle": {
   "accelerator": "nvidiaTeslaT4",
   "dataSources": [],
   "dockerImageVersionId": 30887,
   "isGpuEnabled": true,
   "isInternetEnabled": true,
   "language": "python",
   "sourceType": "notebook"
  },
  "kernelspec": {
   "display_name": "Python 3",
   "language": "python",
   "name": "python3"
  },
  "language_info": {
   "codemirror_mode": {
    "name": "ipython",
    "version": 3
   },
   "file_extension": ".py",
   "mimetype": "text/x-python",
   "name": "python",
   "nbconvert_exporter": "python",
   "pygments_lexer": "ipython3",
   "version": "3.10.12"
  }
 },
 "nbformat": 4,
 "nbformat_minor": 4
}
