{
 "cells": [
  {
   "cell_type": "code",
   "execution_count": 1,
   "metadata": {
    "execution": {
     "iopub.execute_input": "2025-02-13T15:12:02.799242Z",
     "iopub.status.busy": "2025-02-13T15:12:02.798968Z",
     "iopub.status.idle": "2025-02-13T15:12:02.803411Z",
     "shell.execute_reply": "2025-02-13T15:12:02.802462Z",
     "shell.execute_reply.started": "2025-02-13T15:12:02.799213Z"
    },
    "trusted": true
   },
   "outputs": [],
   "source": [
    "from pprint import pprint"
   ]
  },
  {
   "cell_type": "markdown",
   "metadata": {},
   "source": [
    "# I - Data preprocessing"
   ]
  },
  {
   "cell_type": "markdown",
   "metadata": {},
   "source": [
    "## I.1 - Download dataset"
   ]
  },
  {
   "cell_type": "code",
   "execution_count": 2,
   "metadata": {
    "execution": {
     "iopub.execute_input": "2025-02-13T15:12:02.804643Z",
     "iopub.status.busy": "2025-02-13T15:12:02.804372Z",
     "iopub.status.idle": "2025-02-13T15:12:02.820651Z",
     "shell.execute_reply": "2025-02-13T15:12:02.819982Z",
     "shell.execute_reply.started": "2025-02-13T15:12:02.804614Z"
    },
    "trusted": true
   },
   "outputs": [],
   "source": [
    "# ! pip install datasets"
   ]
  },
  {
   "cell_type": "code",
   "execution_count": 3,
   "metadata": {
    "execution": {
     "iopub.execute_input": "2025-02-13T15:12:02.821698Z",
     "iopub.status.busy": "2025-02-13T15:12:02.821427Z",
     "iopub.status.idle": "2025-02-13T15:12:07.094856Z",
     "shell.execute_reply": "2025-02-13T15:12:07.094019Z",
     "shell.execute_reply.started": "2025-02-13T15:12:02.821677Z"
    },
    "trusted": true
   },
   "outputs": [],
   "source": [
    "from datasets import load_dataset"
   ]
  },
  {
   "cell_type": "code",
   "execution_count": null,
   "metadata": {
    "execution": {
     "iopub.execute_input": "2025-02-13T15:12:07.097278Z",
     "iopub.status.busy": "2025-02-13T15:12:07.096862Z",
     "iopub.status.idle": "2025-02-13T15:12:26.824999Z",
     "shell.execute_reply": "2025-02-13T15:12:26.824220Z",
     "shell.execute_reply.started": "2025-02-13T15:12:07.097255Z"
    },
    "trusted": true
   },
   "outputs": [],
   "source": [
    "data_name = 'ncduy/mt-en-vi'\n",
    "data = load_dataset(data_name)"
   ]
  },
  {
   "cell_type": "code",
   "execution_count": 5,
   "metadata": {
    "execution": {
     "iopub.execute_input": "2025-02-13T15:12:26.826950Z",
     "iopub.status.busy": "2025-02-13T15:12:26.826442Z",
     "iopub.status.idle": "2025-02-13T15:12:27.591586Z",
     "shell.execute_reply": "2025-02-13T15:12:27.590949Z",
     "shell.execute_reply.started": "2025-02-13T15:12:26.826899Z"
    },
    "trusted": true
   },
   "outputs": [],
   "source": [
    "sample_size = 100000\n",
    "train_data = data['train'].shuffle(seed=42).select(range(sample_size))\n",
    "validation_data = data['validation'].shuffle(seed=42).select(range(int(0.1*sample_size)))\n",
    "test_data = data['test'].shuffle(seed=42).select(range(int(0.1*sample_size)))"
   ]
  },
  {
   "cell_type": "code",
   "execution_count": 6,
   "metadata": {
    "execution": {
     "iopub.execute_input": "2025-02-13T15:12:27.592771Z",
     "iopub.status.busy": "2025-02-13T15:12:27.592476Z",
     "iopub.status.idle": "2025-02-13T15:12:27.598670Z",
     "shell.execute_reply": "2025-02-13T15:12:27.597848Z",
     "shell.execute_reply.started": "2025-02-13T15:12:27.592741Z"
    },
    "trusted": true
   },
   "outputs": [
    {
     "name": "stdout",
     "output_type": "stream",
     "text": [
      "(100000, 3)\n",
      "{'en': '\"education and leading me to providing service to the Republic.\"',\n",
      " 'source': 'OpenSubtitles v2018',\n",
      " 'vi': '\"nơi giáo dục và dìu dắt tôi để tôi có thể phụng sự nền Cộng Hòa\"'}\n"
     ]
    }
   ],
   "source": [
    "print(train_data.shape)\n",
    "pprint(train_data[0])"
   ]
  },
  {
   "cell_type": "markdown",
   "metadata": {},
   "source": [
    "## I.2 - Process data using SentencePiece"
   ]
  },
  {
   "cell_type": "code",
   "execution_count": 7,
   "metadata": {
    "execution": {
     "iopub.execute_input": "2025-02-13T15:12:27.599823Z",
     "iopub.status.busy": "2025-02-13T15:12:27.599553Z",
     "iopub.status.idle": "2025-02-13T15:12:27.766511Z",
     "shell.execute_reply": "2025-02-13T15:12:27.765433Z",
     "shell.execute_reply.started": "2025-02-13T15:12:27.599800Z"
    },
    "trusted": true
   },
   "outputs": [],
   "source": [
    "import sentencepiece as spm\n",
    "import os"
   ]
  },
  {
   "cell_type": "code",
   "execution_count": 8,
   "metadata": {
    "execution": {
     "iopub.execute_input": "2025-02-13T15:12:27.767756Z",
     "iopub.status.busy": "2025-02-13T15:12:27.767452Z",
     "iopub.status.idle": "2025-02-13T15:12:27.772645Z",
     "shell.execute_reply": "2025-02-13T15:12:27.771578Z",
     "shell.execute_reply.started": "2025-02-13T15:12:27.767724Z"
    },
    "trusted": true
   },
   "outputs": [],
   "source": [
    "# Save data into files\n",
    "def save_to_file(data, filename):\n",
    "    with open(filename+'.en', 'w', encoding='utf-8') as f_en, open(filename+'.vi', 'w', encoding='utf-8') as f_vi:\n",
    "        for sample in data:\n",
    "            f_en.write(sample['en'] + '\\n')\n",
    "            f_vi.write(sample['vi'] + '\\n')"
   ]
  },
  {
   "cell_type": "code",
   "execution_count": 9,
   "metadata": {
    "execution": {
     "iopub.execute_input": "2025-02-13T15:12:27.773887Z",
     "iopub.status.busy": "2025-02-13T15:12:27.773624Z",
     "iopub.status.idle": "2025-02-13T15:12:36.060367Z",
     "shell.execute_reply": "2025-02-13T15:12:36.059240Z",
     "shell.execute_reply.started": "2025-02-13T15:12:27.773865Z"
    },
    "trusted": true
   },
   "outputs": [],
   "source": [
    "save_to_file(train_data, '/kaggle/working/train')\n",
    "save_to_file(validation_data, '/kaggle/working/validation')\n",
    "save_to_file(test_data, '/kaggle/working/test')"
   ]
  },
  {
   "cell_type": "code",
   "execution_count": 10,
   "metadata": {
    "execution": {
     "iopub.execute_input": "2025-02-13T15:12:36.061768Z",
     "iopub.status.busy": "2025-02-13T15:12:36.061399Z",
     "iopub.status.idle": "2025-02-13T15:12:36.067514Z",
     "shell.execute_reply": "2025-02-13T15:12:36.066580Z",
     "shell.execute_reply.started": "2025-02-13T15:12:36.061718Z"
    },
    "trusted": true
   },
   "outputs": [],
   "source": [
    "# Training SentencePiece\n",
    "def training_sentencepiece(trainfile, prefix, vocab_size=32000, type='bpe'):\n",
    "    spm.SentencePieceTrainer.Train(\n",
    "        input=trainfile+'.en',\n",
    "        model_prefix=prefix+'_en',\n",
    "        vocab_size=vocab_size,\n",
    "        model_type=type\n",
    "    )\n",
    "    spm.SentencePieceTrainer.Train(\n",
    "        input=trainfile+'.vi',\n",
    "        model_prefix=prefix+'_vi',\n",
    "        vocab_size=vocab_size,\n",
    "        model_type=type\n",
    "    )\n",
    "    \n",
    "    # Load trained tokenizer\n",
    "    sp_en = spm.SentencePieceProcessor(model_file=prefix+\"_en.model\")\n",
    "    sp_vi = spm.SentencePieceProcessor(model_file=prefix+\"_vi.model\")\n",
    "    \n",
    "    return sp_en, sp_vi"
   ]
  },
  {
   "cell_type": "code",
   "execution_count": 11,
   "metadata": {
    "execution": {
     "iopub.execute_input": "2025-02-13T15:12:36.068843Z",
     "iopub.status.busy": "2025-02-13T15:12:36.068515Z",
     "iopub.status.idle": "2025-02-13T15:13:05.675090Z",
     "shell.execute_reply": "2025-02-13T15:13:05.674274Z",
     "shell.execute_reply.started": "2025-02-13T15:12:36.068810Z"
    },
    "trusted": true
   },
   "outputs": [],
   "source": [
    "trainfile = '/kaggle/working/train'\n",
    "prefix = '/kaggle/working/spm'\n",
    "sp_en, sp_vi = training_sentencepiece(trainfile, prefix)"
   ]
  },
  {
   "cell_type": "code",
   "execution_count": 12,
   "metadata": {
    "execution": {
     "iopub.execute_input": "2025-02-13T15:13:05.676363Z",
     "iopub.status.busy": "2025-02-13T15:13:05.676047Z",
     "iopub.status.idle": "2025-02-13T15:13:05.695810Z",
     "shell.execute_reply": "2025-02-13T15:13:05.695130Z",
     "shell.execute_reply.started": "2025-02-13T15:13:05.676333Z"
    },
    "trusted": true
   },
   "outputs": [
    {
     "name": "stdout",
     "output_type": "stream",
     "text": [
      "['▁education', '▁and', '▁leading', '▁me', '▁to', '▁providing', '▁service', '▁to', '▁the', '▁Republic', '.']\n",
      "['▁Tôi', '▁yêu', '▁đại', '▁bàng', '!']\n"
     ]
    }
   ],
   "source": [
    "example_en = \"education and leading me to providing service to the Republic.\"\n",
    "example_vi = \"Tôi yêu đại bàng!\"\n",
    "\n",
    "print(sp_en.encode(example_en, out_type=str))\n",
    "print(sp_vi.encode(example_vi, out_type=str))"
   ]
  },
  {
   "cell_type": "markdown",
   "metadata": {},
   "source": [
    "## I.3 - Convert data to Tensor"
   ]
  },
  {
   "cell_type": "code",
   "execution_count": 13,
   "metadata": {
    "execution": {
     "iopub.execute_input": "2025-02-13T15:13:05.698983Z",
     "iopub.status.busy": "2025-02-13T15:13:05.698763Z",
     "iopub.status.idle": "2025-02-13T15:13:11.606047Z",
     "shell.execute_reply": "2025-02-13T15:13:11.605311Z",
     "shell.execute_reply.started": "2025-02-13T15:13:05.698964Z"
    },
    "trusted": true
   },
   "outputs": [],
   "source": [
    "import torch\n",
    "from torch.utils.data import Dataset, DataLoader"
   ]
  },
  {
   "cell_type": "code",
   "execution_count": 14,
   "metadata": {
    "execution": {
     "iopub.execute_input": "2025-02-13T15:13:11.607618Z",
     "iopub.status.busy": "2025-02-13T15:13:11.607337Z",
     "iopub.status.idle": "2025-02-13T15:13:11.614114Z",
     "shell.execute_reply": "2025-02-13T15:13:11.613338Z",
     "shell.execute_reply.started": "2025-02-13T15:13:11.607583Z"
    },
    "trusted": true
   },
   "outputs": [],
   "source": [
    "class TranslationDataset(Dataset):\n",
    "    def __init__(self, src_texts, tgt_texts, src_tokenizer, tgt_tokenizer, max_length=128):\n",
    "        self.src_texts = src_texts\n",
    "        self.tgt_texts = tgt_texts\n",
    "        self.src_tokenizer = src_tokenizer\n",
    "        self.tgt_tokenizer = tgt_tokenizer\n",
    "        self.max_length = max_length\n",
    "\n",
    "    def __len__(self):\n",
    "        return len(self.src_texts)\n",
    "\n",
    "    def __getitem__(self, idx):\n",
    "        # Tokenize input (source - English)\n",
    "        src_ids = self.src_tokenizer.encode(self.src_texts[idx])[:self.max_length - 1]  \n",
    "        src_ids.append(self.src_tokenizer.eos_id())  # Thêm <EOS>\n",
    "\n",
    "        # Tokennize output (target - Vietnamese)\n",
    "        tgt_ids = self.tgt_tokenizer.encode(self.tgt_texts[idx])[:self.max_length - 2]  \n",
    "        tgt_ids = [self.tgt_tokenizer.bos_id()] + tgt_ids + [self.tgt_tokenizer.eos_id()]  # Add <SOS> and <EOS>\n",
    "\n",
    "        return torch.tensor(src_ids), torch.tensor(tgt_ids)\n",
    "\n",
    "\n",
    "# Padding batch\n",
    "def collate_fn(batch):\n",
    "    src_batch, tgt_batch = zip(*batch)\n",
    "    \n",
    "    src_batch = torch.nn.utils.rnn.pad_sequence(src_batch, batch_first=True, padding_value=0)\n",
    "    tgt_batch = torch.nn.utils.rnn.pad_sequence(tgt_batch, batch_first=True, padding_value=0)\n",
    "\n",
    "    return {\"src\": src_batch, \"tgt\": tgt_batch}"
   ]
  },
  {
   "cell_type": "code",
   "execution_count": 15,
   "metadata": {
    "execution": {
     "iopub.execute_input": "2025-02-13T15:13:11.615287Z",
     "iopub.status.busy": "2025-02-13T15:13:11.615015Z",
     "iopub.status.idle": "2025-02-13T15:13:13.087068Z",
     "shell.execute_reply": "2025-02-13T15:13:13.086329Z",
     "shell.execute_reply.started": "2025-02-13T15:13:11.615259Z"
    },
    "trusted": true
   },
   "outputs": [],
   "source": [
    "train_src_texts = train_data['en']\n",
    "train_tgt_texts = train_data['vi']\n",
    "\n",
    "train_dataset = TranslationDataset(train_src_texts, train_tgt_texts, sp_en, sp_vi)"
   ]
  },
  {
   "cell_type": "code",
   "execution_count": 16,
   "metadata": {
    "execution": {
     "iopub.execute_input": "2025-02-13T15:13:13.088132Z",
     "iopub.status.busy": "2025-02-13T15:13:13.087847Z",
     "iopub.status.idle": "2025-02-13T15:13:13.188495Z",
     "shell.execute_reply": "2025-02-13T15:13:13.187647Z",
     "shell.execute_reply.started": "2025-02-13T15:13:13.088109Z"
    },
    "trusted": true
   },
   "outputs": [],
   "source": [
    "val_src_texts = validation_data['en']\n",
    "val_tgt_texts = validation_data['vi']\n",
    "\n",
    "val_dataset = TranslationDataset(val_src_texts, val_tgt_texts, sp_en, sp_vi)"
   ]
  },
  {
   "cell_type": "code",
   "execution_count": 17,
   "metadata": {
    "execution": {
     "iopub.execute_input": "2025-02-13T15:13:13.189680Z",
     "iopub.status.busy": "2025-02-13T15:13:13.189382Z",
     "iopub.status.idle": "2025-02-13T15:13:13.194058Z",
     "shell.execute_reply": "2025-02-13T15:13:13.193401Z",
     "shell.execute_reply.started": "2025-02-13T15:13:13.189650Z"
    },
    "trusted": true
   },
   "outputs": [],
   "source": [
    "# DataLoader\n",
    "batch_size = 32\n",
    "train_dataloader = DataLoader(train_dataset, batch_size=batch_size, shuffle=True, collate_fn=collate_fn)\n",
    "val_dataloader = DataLoader(val_dataset, batch_size=batch_size, shuffle=True, collate_fn=collate_fn)"
   ]
  },
  {
   "cell_type": "code",
   "execution_count": 18,
   "metadata": {
    "execution": {
     "iopub.execute_input": "2025-02-13T15:13:13.195067Z",
     "iopub.status.busy": "2025-02-13T15:13:13.194814Z",
     "iopub.status.idle": "2025-02-13T15:13:13.399281Z",
     "shell.execute_reply": "2025-02-13T15:13:13.398387Z",
     "shell.execute_reply.started": "2025-02-13T15:13:13.195041Z"
    },
    "trusted": true
   },
   "outputs": [
    {
     "name": "stdout",
     "output_type": "stream",
     "text": [
      "torch.Size([32, 69])\n",
      "tensor([[  823, 14432, 18938,  ...,     0,     0,     0],\n",
      "        [  374,    63,     5,  ...,     0,     0,     0],\n",
      "        [10201,  3613,   300,  ...,     0,     0,     0],\n",
      "        ...,\n",
      "        [  545, 31860, 31842,  ...,     0,     0,     0],\n",
      "        [   36,  1514,   273,  ...,     0,     0,     0],\n",
      "        [ 1296,   323,  2863,  ...,     0,     0,     0]])\n"
     ]
    }
   ],
   "source": [
    "batch = next(iter(train_dataloader))\n",
    "print(batch['src'].shape)\n",
    "pprint(batch['src'])"
   ]
  },
  {
   "cell_type": "markdown",
   "metadata": {},
   "source": [
    "# II - Build model"
   ]
  },
  {
   "cell_type": "code",
   "execution_count": 19,
   "metadata": {
    "execution": {
     "iopub.execute_input": "2025-02-13T15:13:13.400341Z",
     "iopub.status.busy": "2025-02-13T15:13:13.400116Z",
     "iopub.status.idle": "2025-02-13T15:13:13.403657Z",
     "shell.execute_reply": "2025-02-13T15:13:13.402843Z",
     "shell.execute_reply.started": "2025-02-13T15:13:13.400320Z"
    },
    "trusted": true
   },
   "outputs": [],
   "source": [
    "import torch.nn as nn"
   ]
  },
  {
   "cell_type": "code",
   "execution_count": null,
   "metadata": {
    "execution": {
     "iopub.execute_input": "2025-02-13T15:13:13.404861Z",
     "iopub.status.busy": "2025-02-13T15:13:13.404572Z",
     "iopub.status.idle": "2025-02-13T15:13:13.424013Z",
     "shell.execute_reply": "2025-02-13T15:13:13.423295Z",
     "shell.execute_reply.started": "2025-02-13T15:13:13.404831Z"
    },
    "trusted": true
   },
   "outputs": [],
   "source": [
    "class Encoder(nn.Module):\n",
    "    def __init__(self, input_dim, emb_dim, hidden_dim, num_layers, dropout=0.3, pad_idx=0):\n",
    "        super().__init__()\n",
    "        self.embedding = nn.Embedding(input_dim, emb_dim, padding_idx=pad_idx)\n",
    "        self.rnn = nn.GRU(emb_dim, hidden_dim, num_layers, dropout=dropout, batch_first=True)\n",
    "        self.dropout = nn.Dropout(dropout)\n",
    "        \n",
    "    def forward(self, src):\n",
    "        embedded = self.embedding(src)\n",
    "        embedded = self.dropout(embedded)\n",
    "        output, hidden = self.rnn(embedded)\n",
    "        return output, hidden\n",
    "        "
   ]
  },
  {
   "cell_type": "code",
   "execution_count": 21,
   "metadata": {
    "execution": {
     "iopub.execute_input": "2025-02-13T15:13:13.425217Z",
     "iopub.status.busy": "2025-02-13T15:13:13.424873Z",
     "iopub.status.idle": "2025-02-13T15:13:13.444828Z",
     "shell.execute_reply": "2025-02-13T15:13:13.444276Z",
     "shell.execute_reply.started": "2025-02-13T15:13:13.425185Z"
    },
    "trusted": true
   },
   "outputs": [],
   "source": [
    "class Decoder(nn.Module):\n",
    "    def __init__(self, output_dim, emb_dim, hidden_dim, num_layers, dropout, pad_idx=0):\n",
    "        super().__init__()\n",
    "        self.output_dim = output_dim\n",
    "        self.embedding = nn.Embedding(output_dim, emb_dim, padding_idx=pad_idx)\n",
    "        self.rnn = nn.GRU(emb_dim, hidden_dim, num_layers, dropout=dropout, batch_first=True)\n",
    "        self.fc_out = nn.Linear(hidden_dim, output_dim)\n",
    "        self.dropout = nn.Dropout(dropout)\n",
    "\n",
    "    def forward(self, input, hidden):\n",
    "        input = input.unsqueeze(1)  # [batch] -> [batch, 1]\n",
    "        embedded = self.embedding(input)  # [batch, 1, emb_dim]\n",
    "        embedded = self.dropout(embedded)  # [batch, 1, emb_dim]\n",
    "        output, hidden = self.rnn(embedded, hidden)  # output: [batch, 1, hidden_dim]\n",
    "        prediction = self.fc_out(output.squeeze(1))  # [batch, output_dim]\n",
    "        return prediction, hidden\n"
   ]
  },
  {
   "cell_type": "code",
   "execution_count": null,
   "metadata": {
    "execution": {
     "iopub.execute_input": "2025-02-13T15:13:13.445924Z",
     "iopub.status.busy": "2025-02-13T15:13:13.445643Z",
     "iopub.status.idle": "2025-02-13T15:13:13.461380Z",
     "shell.execute_reply": "2025-02-13T15:13:13.460770Z",
     "shell.execute_reply.started": "2025-02-13T15:13:13.445875Z"
    },
    "trusted": true
   },
   "outputs": [],
   "source": [
    "import random\n",
    "\n",
    "class Seq2Seq(nn.Module):\n",
    "    def __init__(self, encoder, decoder, device):\n",
    "        super().__init__()\n",
    "        self.encoder = encoder\n",
    "        self.decoder = decoder\n",
    "        self.device = device\n",
    "\n",
    "    def forward(self, src, trg, teacher_forcing_ratio=0.5):\n",
    "        batch_size = src.shape[0]\n",
    "        trg_len = trg.shape[1]\n",
    "        trg_vocab_size = self.decoder.output_dim\n",
    "        \n",
    "        # outputs = torch.zeros(trg_len, batch_size, trg_vocab_size)\n",
    "        outputs = torch.zeros(trg_len, batch_size, trg_vocab_size).to(self.device)\n",
    "\n",
    "        # Encode input\n",
    "        output, hidden = self.encoder(src)\n",
    "\n",
    "        # First token <SOS>\n",
    "        input = trg[:, 0]\n",
    "\n",
    "        for t in range(1, trg_len):\n",
    "            output, hidden = self.decoder(input, hidden)\n",
    "            outputs[t] = output\n",
    "\n",
    "            # Teacher forcing\n",
    "            teacher_force = random.random() < teacher_forcing_ratio\n",
    "            top1 = output.argmax(1)\n",
    "\n",
    "            input = trg[:, t] if teacher_force else top1\n",
    "\n",
    "        return outputs\n"
   ]
  },
  {
   "cell_type": "code",
   "execution_count": 23,
   "metadata": {
    "execution": {
     "iopub.execute_input": "2025-02-13T15:13:13.462334Z",
     "iopub.status.busy": "2025-02-13T15:13:13.462069Z",
     "iopub.status.idle": "2025-02-13T15:13:13.874641Z",
     "shell.execute_reply": "2025-02-13T15:13:13.874001Z",
     "shell.execute_reply.started": "2025-02-13T15:13:13.462307Z"
    },
    "trusted": true
   },
   "outputs": [],
   "source": [
    "# Hyperparams\n",
    "INPUT_DIM = len(sp_en)\n",
    "OUTPUT_DIM = len(sp_vi)\n",
    "EMB_DIM = 256\n",
    "HIDDEN_DIM = 512\n",
    "NUM_LAYERS = 2\n",
    "DROPOUT = 0.3\n",
    "DEVICE = torch.device(\"cuda\" if torch.cuda.is_available() else \"cpu\")\n",
    "\n",
    "# Khởi tạo Encoder & Decoder\n",
    "encoder = Encoder(INPUT_DIM, EMB_DIM, HIDDEN_DIM, NUM_LAYERS, DROPOUT)\n",
    "decoder = Decoder(OUTPUT_DIM, EMB_DIM, HIDDEN_DIM, NUM_LAYERS, DROPOUT)\n",
    "\n",
    "# Khởi tạo Seq2Seq\n",
    "model = Seq2Seq(encoder, decoder, DEVICE)\n"
   ]
  },
  {
   "cell_type": "markdown",
   "metadata": {},
   "source": [
    "# III - Train and Evaluate model"
   ]
  },
  {
   "cell_type": "code",
   "execution_count": 24,
   "metadata": {
    "execution": {
     "iopub.execute_input": "2025-02-13T15:13:13.875536Z",
     "iopub.status.busy": "2025-02-13T15:13:13.875330Z",
     "iopub.status.idle": "2025-02-13T15:13:15.987158Z",
     "shell.execute_reply": "2025-02-13T15:13:15.986316Z",
     "shell.execute_reply.started": "2025-02-13T15:13:13.875518Z"
    },
    "trusted": true
   },
   "outputs": [],
   "source": [
    "import torch.optim as optim\n",
    "import torch.nn as nn\n",
    "from tqdm import tqdm\n",
    "\n",
    "\n",
    "LEARNING_RATE = 0.001\n",
    "PAD_IDX = 0\n",
    "\n",
    "criterion = torch.nn.CrossEntropyLoss(ignore_index=PAD_IDX)  \n",
    "optimizer = optim.Adam(model.parameters(), lr=LEARNING_RATE)\n"
   ]
  },
  {
   "cell_type": "code",
   "execution_count": 25,
   "metadata": {
    "execution": {
     "iopub.execute_input": "2025-02-13T15:13:15.988381Z",
     "iopub.status.busy": "2025-02-13T15:13:15.987986Z",
     "iopub.status.idle": "2025-02-13T15:13:15.993643Z",
     "shell.execute_reply": "2025-02-13T15:13:15.992997Z",
     "shell.execute_reply.started": "2025-02-13T15:13:15.988359Z"
    },
    "trusted": true
   },
   "outputs": [],
   "source": [
    "import random\n",
    "\n",
    "def train(model, iterator, optimizer, criterion, clip, teacher_forcing_ratio=0.5):\n",
    "    model.train()\n",
    "    epoch_loss = 0\n",
    "    model.to(DEVICE)\n",
    "    for batch in tqdm(iterator, desc=f'Training: '):\n",
    "        src, trg = batch['src'], batch['tgt']\n",
    "        src, trg = src.to(DEVICE), trg.to(DEVICE)\n",
    "        \n",
    "        optimizer.zero_grad()\n",
    "\n",
    "        output = model(src, trg, teacher_forcing_ratio)\n",
    "\n",
    "        output_dim = output.shape[-1]\n",
    "        output = output[1:].reshape(-1, output_dim)  # [batch_size * trg_len, vocab_size]\n",
    "        trg = trg[:, 1:].reshape(-1)  # [batch_size * trg_len]\n",
    "\n",
    "        loss = criterion(output, trg)\n",
    "        loss.backward()\n",
    "        \n",
    "        torch.nn.utils.clip_grad_norm_(model.parameters(), clip)\n",
    "\n",
    "        optimizer.step()\n",
    "        epoch_loss += loss.item()\n",
    "\n",
    "    return epoch_loss / len(iterator)\n"
   ]
  },
  {
   "cell_type": "code",
   "execution_count": 26,
   "metadata": {
    "execution": {
     "iopub.execute_input": "2025-02-13T15:13:15.994710Z",
     "iopub.status.busy": "2025-02-13T15:13:15.994398Z",
     "iopub.status.idle": "2025-02-13T15:13:16.023049Z",
     "shell.execute_reply": "2025-02-13T15:13:16.022474Z",
     "shell.execute_reply.started": "2025-02-13T15:13:15.994676Z"
    },
    "trusted": true
   },
   "outputs": [],
   "source": [
    "def evaluate(model, iterator, criterion):\n",
    "    model.eval()\n",
    "    epoch_loss = 0\n",
    "\n",
    "    with torch.no_grad():\n",
    "        for src, trg in tqdm(iterator, desc='Evaluating: '):\n",
    "            src, trg = batch['src'], batch['tgt']\n",
    "            src, trg = src.to(DEVICE), trg.to(DEVICE)\n",
    "            output = model(src, trg, teacher_forcing_ratio=0)\n",
    "\n",
    "            output_dim = output.shape[-1]\n",
    "            output = output[1:].reshape(-1, output_dim)\n",
    "            trg = trg[:, 1:].reshape(-1)\n",
    "\n",
    "            loss = criterion(output, trg)\n",
    "            epoch_loss += loss.item()\n",
    "    print()\n",
    "    return epoch_loss / len(iterator)\n"
   ]
  },
  {
   "cell_type": "code",
   "execution_count": 27,
   "metadata": {
    "execution": {
     "iopub.execute_input": "2025-02-13T15:13:16.024067Z",
     "iopub.status.busy": "2025-02-13T15:13:16.023804Z",
     "iopub.status.idle": "2025-02-13T15:13:16.039511Z",
     "shell.execute_reply": "2025-02-13T15:13:16.038950Z",
     "shell.execute_reply.started": "2025-02-13T15:13:16.024040Z"
    },
    "trusted": true
   },
   "outputs": [],
   "source": [
    "import os\n",
    "os.environ[\"CUDA_LAUNCH_BLOCKING\"] = \"1\"\n"
   ]
  },
  {
   "cell_type": "code",
   "execution_count": 28,
   "metadata": {
    "execution": {
     "iopub.execute_input": "2025-02-13T15:13:16.040512Z",
     "iopub.status.busy": "2025-02-13T15:13:16.040234Z",
     "iopub.status.idle": "2025-02-13T21:55:43.346962Z",
     "shell.execute_reply": "2025-02-13T21:55:43.345999Z",
     "shell.execute_reply.started": "2025-02-13T15:13:16.040484Z"
    },
    "trusted": true
   },
   "outputs": [
    {
     "name": "stderr",
     "output_type": "stream",
     "text": [
      "Training: 100%|██████████| 3125/3125 [38:24<00:00,  1.36it/s]\n",
      "Evaluating: 100%|██████████| 313/313 [01:55<00:00,  2.71it/s]\n"
     ]
    },
    {
     "name": "stdout",
     "output_type": "stream",
     "text": [
      "\n",
      "Epoch 1:\n",
      "  Train Loss: 7.179\n",
      "  Valid Loss: 7.125\n"
     ]
    },
    {
     "name": "stderr",
     "output_type": "stream",
     "text": [
      "Training: 100%|██████████| 3125/3125 [38:23<00:00,  1.36it/s]\n",
      "Evaluating: 100%|██████████| 313/313 [01:53<00:00,  2.75it/s]\n"
     ]
    },
    {
     "name": "stdout",
     "output_type": "stream",
     "text": [
      "\n",
      "Epoch 2:\n",
      "  Train Loss: 7.106\n",
      "  Valid Loss: 7.116\n"
     ]
    },
    {
     "name": "stderr",
     "output_type": "stream",
     "text": [
      "Training: 100%|██████████| 3125/3125 [38:18<00:00,  1.36it/s]\n",
      "Evaluating: 100%|██████████| 313/313 [01:53<00:00,  2.75it/s]\n"
     ]
    },
    {
     "name": "stdout",
     "output_type": "stream",
     "text": [
      "\n",
      "Epoch 3:\n",
      "  Train Loss: 7.097\n",
      "  Valid Loss: 7.118\n"
     ]
    },
    {
     "name": "stderr",
     "output_type": "stream",
     "text": [
      "Training: 100%|██████████| 3125/3125 [38:23<00:00,  1.36it/s]\n",
      "Evaluating: 100%|██████████| 313/313 [01:54<00:00,  2.73it/s]\n"
     ]
    },
    {
     "name": "stdout",
     "output_type": "stream",
     "text": [
      "\n",
      "Epoch 4:\n",
      "  Train Loss: 7.094\n",
      "  Valid Loss: 7.105\n"
     ]
    },
    {
     "name": "stderr",
     "output_type": "stream",
     "text": [
      "Training: 100%|██████████| 3125/3125 [38:16<00:00,  1.36it/s]\n",
      "Evaluating: 100%|██████████| 313/313 [01:53<00:00,  2.75it/s]\n"
     ]
    },
    {
     "name": "stdout",
     "output_type": "stream",
     "text": [
      "\n",
      "Epoch 5:\n",
      "  Train Loss: 7.091\n",
      "  Valid Loss: 7.110\n"
     ]
    },
    {
     "name": "stderr",
     "output_type": "stream",
     "text": [
      "Training: 100%|██████████| 3125/3125 [38:22<00:00,  1.36it/s]\n",
      "Evaluating: 100%|██████████| 313/313 [01:54<00:00,  2.74it/s]\n"
     ]
    },
    {
     "name": "stdout",
     "output_type": "stream",
     "text": [
      "\n",
      "Epoch 6:\n",
      "  Train Loss: 7.089\n",
      "  Valid Loss: 7.102\n"
     ]
    },
    {
     "name": "stderr",
     "output_type": "stream",
     "text": [
      "Training: 100%|██████████| 3125/3125 [38:19<00:00,  1.36it/s]\n",
      "Evaluating: 100%|██████████| 313/313 [01:54<00:00,  2.73it/s]\n"
     ]
    },
    {
     "name": "stdout",
     "output_type": "stream",
     "text": [
      "\n",
      "Epoch 7:\n",
      "  Train Loss: 7.087\n",
      "  Valid Loss: 7.103\n"
     ]
    },
    {
     "name": "stderr",
     "output_type": "stream",
     "text": [
      "Training: 100%|██████████| 3125/3125 [38:18<00:00,  1.36it/s]\n",
      "Evaluating: 100%|██████████| 313/313 [01:54<00:00,  2.73it/s]\n"
     ]
    },
    {
     "name": "stdout",
     "output_type": "stream",
     "text": [
      "\n",
      "Epoch 8:\n",
      "  Train Loss: 7.086\n",
      "  Valid Loss: 7.104\n"
     ]
    },
    {
     "name": "stderr",
     "output_type": "stream",
     "text": [
      "Training: 100%|██████████| 3125/3125 [38:20<00:00,  1.36it/s]\n",
      "Evaluating: 100%|██████████| 313/313 [01:54<00:00,  2.73it/s]\n"
     ]
    },
    {
     "name": "stdout",
     "output_type": "stream",
     "text": [
      "\n",
      "Epoch 9:\n",
      "  Train Loss: 7.085\n",
      "  Valid Loss: 7.099\n"
     ]
    },
    {
     "name": "stderr",
     "output_type": "stream",
     "text": [
      "Training: 100%|██████████| 3125/3125 [38:15<00:00,  1.36it/s]\n",
      "Evaluating: 100%|██████████| 313/313 [01:54<00:00,  2.74it/s]"
     ]
    },
    {
     "name": "stdout",
     "output_type": "stream",
     "text": [
      "\n",
      "Epoch 10:\n",
      "  Train Loss: 7.084\n",
      "  Valid Loss: 7.110\n"
     ]
    },
    {
     "name": "stderr",
     "output_type": "stream",
     "text": [
      "\n"
     ]
    }
   ],
   "source": [
    "N_EPOCHS = 10\n",
    "CLIP = 5  # Max gradient norm\n",
    "\n",
    "train_losses = []\n",
    "val_losses = []\n",
    "\n",
    "for epoch in range(N_EPOCHS):\n",
    "    train_loss = train(model, train_dataloader, optimizer, criterion, CLIP)\n",
    "    valid_loss = evaluate(model, val_dataloader, criterion)\n",
    "\n",
    "    print(f'Epoch {epoch+1}:')\n",
    "    print(f'  Train Loss: {train_loss:.3f}')\n",
    "    print(f'  Valid Loss: {valid_loss:.3f}')\n",
    "\n",
    "    train_losses.append(train_loss)\n",
    "    val_losses.append(valid_loss)"
   ]
  },
  {
   "cell_type": "code",
   "execution_count": 29,
   "metadata": {
    "execution": {
     "iopub.execute_input": "2025-02-13T21:55:43.348127Z",
     "iopub.status.busy": "2025-02-13T21:55:43.347844Z",
     "iopub.status.idle": "2025-02-13T21:55:43.658723Z",
     "shell.execute_reply": "2025-02-13T21:55:43.657654Z",
     "shell.execute_reply.started": "2025-02-13T21:55:43.348104Z"
    },
    "trusted": true
   },
   "outputs": [],
   "source": [
    "torch.save(model.state_dict(), '/kaggle/working/seq2seq.pth')"
   ]
  },
  {
   "cell_type": "code",
   "execution_count": 30,
   "metadata": {
    "execution": {
     "iopub.execute_input": "2025-02-13T21:55:43.660282Z",
     "iopub.status.busy": "2025-02-13T21:55:43.659873Z",
     "iopub.status.idle": "2025-02-13T21:55:43.814596Z",
     "shell.execute_reply": "2025-02-13T21:55:43.813742Z",
     "shell.execute_reply.started": "2025-02-13T21:55:43.660244Z"
    },
    "trusted": true
   },
   "outputs": [
    {
     "data": {
      "text/plain": [
       "Seq2Seq(\n",
       "  (encoder): Encoder(\n",
       "    (embedding): Embedding(32000, 256, padding_idx=0)\n",
       "    (rnn): GRU(256, 512, num_layers=2, batch_first=True, dropout=0.3)\n",
       "    (dropout): Dropout(p=0.3, inplace=False)\n",
       "  )\n",
       "  (decoder): Decoder(\n",
       "    (embedding): Embedding(32000, 256, padding_idx=0)\n",
       "    (rnn): GRU(256, 512, num_layers=2, batch_first=True, dropout=0.3)\n",
       "    (fc_out): Linear(in_features=512, out_features=32000, bias=True)\n",
       "    (dropout): Dropout(p=0.3, inplace=False)\n",
       "  )\n",
       ")"
      ]
     },
     "execution_count": 30,
     "metadata": {},
     "output_type": "execute_result"
    }
   ],
   "source": [
    "model.load_state_dict(torch.load(\"/kaggle/working/seq2seq.pth\", \n",
    "                                 map_location=torch.device(\"cpu\"),\n",
    "                                 weights_only=True))\n",
    "model.eval()  "
   ]
  },
  {
   "cell_type": "code",
   "execution_count": 31,
   "metadata": {
    "execution": {
     "iopub.execute_input": "2025-02-13T21:55:43.815667Z",
     "iopub.status.busy": "2025-02-13T21:55:43.815407Z",
     "iopub.status.idle": "2025-02-13T21:55:43.822293Z",
     "shell.execute_reply": "2025-02-13T21:55:43.821422Z",
     "shell.execute_reply.started": "2025-02-13T21:55:43.815629Z"
    },
    "trusted": true
   },
   "outputs": [],
   "source": [
    "import torch\n",
    "\n",
    "def translate_sentence(sentence, sp_en, trg_vocab, model, device, max_len=128):\n",
    "    model.to(device).eval()\n",
    "    \n",
    "    # Tokenize input using SentencePiece\n",
    "    tokens = sp_en.encode(sentence, out_type=str)  # Tokenize\n",
    "    print(\"Tokenized input:\", tokens)\n",
    "    \n",
    "    # Chuyển token thành chỉ mục (ID)\n",
    "    src_indexes = sp_en.encode(sentence)  # SentencePiece auto convert to ID\n",
    "    src_tensor = torch.tensor(src_indexes, dtype=torch.long).unsqueeze(0).to(device)  # [1, seq_len]\n",
    "    with torch.inference_mode():\n",
    "        _, hidden = model.encoder(src_tensor)  # Encode input\n",
    "    \n",
    "    trg_indexes = [trg_vocab['stoi'][\"<s>\"]]  # Begin with <sos>\n",
    "    for _ in range(max_len):\n",
    "        trg_tensor = torch.tensor([trg_indexes[-1]], dtype=torch.long).to(device)  # [1]\n",
    "        with torch.inference_mode():\n",
    "            output, hidden = model.decoder(trg_tensor, hidden)  # Get output from decoder\n",
    "        pred_token = output.argmax(1).item()  # Get token has highest probs\n",
    "        trg_indexes.append(pred_token)\n",
    "\n",
    "        if pred_token == trg_vocab['stoi'][\"</s>\"]:  # End if <eos>\n",
    "            break\n",
    "\n",
    "    # Convert ID to word\n",
    "    trg_tokens = [trg_vocab['itos'][i] for i in trg_indexes]\n",
    "    return \" \".join(trg_tokens[1:-1])  # Remove <sos> and <eos>\n"
   ]
  },
  {
   "cell_type": "code",
   "execution_count": 32,
   "metadata": {
    "execution": {
     "iopub.execute_input": "2025-02-13T21:55:43.823348Z",
     "iopub.status.busy": "2025-02-13T21:55:43.823134Z",
     "iopub.status.idle": "2025-02-13T21:55:44.381304Z",
     "shell.execute_reply": "2025-02-13T21:55:44.380445Z",
     "shell.execute_reply.started": "2025-02-13T21:55:43.823328Z"
    },
    "trusted": true
   },
   "outputs": [
    {
     "name": "stdout",
     "output_type": "stream",
     "text": [
      "Tokenized input: ['▁How', '▁are', '▁you', '?']\n",
      "Translated: \n"
     ]
    }
   ],
   "source": [
    "trg_vocab = {\n",
    "    \"stoi\": {sp_vi.id_to_piece(i): i for i in range(sp_vi.get_piece_size())},\n",
    "    \"itos\": {i: sp_vi.id_to_piece(i) for i in range(sp_vi.get_piece_size())},\n",
    "}\n",
    "\n",
    "sentence = \"How are you?\"\n",
    "translated_sentence = translate_sentence(sentence, sp_en, trg_vocab, model, device=\"cpu\")\n",
    "print(\"Translated:\", translated_sentence)\n"
   ]
  },
  {
   "cell_type": "code",
   "execution_count": null,
   "metadata": {
    "trusted": true
   },
   "outputs": [],
   "source": []
  }
 ],
 "metadata": {
  "kaggle": {
   "accelerator": "nvidiaTeslaT4",
   "dataSources": [],
   "dockerImageVersionId": 30887,
   "isGpuEnabled": true,
   "isInternetEnabled": true,
   "language": "python",
   "sourceType": "notebook"
  },
  "kernelspec": {
   "display_name": "Python 3",
   "language": "python",
   "name": "python3"
  },
  "language_info": {
   "codemirror_mode": {
    "name": "ipython",
    "version": 3
   },
   "file_extension": ".py",
   "mimetype": "text/x-python",
   "name": "python",
   "nbconvert_exporter": "python",
   "pygments_lexer": "ipython3",
   "version": "3.12.4"
  }
 },
 "nbformat": 4,
 "nbformat_minor": 4
}
